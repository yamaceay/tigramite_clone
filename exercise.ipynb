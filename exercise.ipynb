{
 "cells": [
  {
   "cell_type": "code",
   "execution_count": 1,
   "id": "24d22152-354b-4bf4-9728-3102055ef5e5",
   "metadata": {},
   "outputs": [],
   "source": [
    "import numpy as np\n",
    "from tigramite.independence_tests.oracle_conditional_independence import OracleCI\n",
    "from tigramite import plotting as tp"
   ]
  },
  {
   "cell_type": "markdown",
   "id": "26111f74-7601-4576-bcf2-478c020df8ed",
   "metadata": {},
   "source": [
    "### Links of the Causal Graph\n",
    "\n",
    "Links can be initialized as a dictionary with a (key, value) pair for each variable $i$:\n",
    "\n",
    "$\\{i:[(j,0),(k,0)]\\}$\n",
    "\n",
    "where $i$ has $j,k$ as parents at lag 0. \n",
    "In this excercise, all causal links are assumed to be at lag 0, i.e., we work with non-time-series data."
   ]
  },
  {
   "cell_type": "code",
   "execution_count": 2,
   "id": "29aa676c-8204-4c7c-86f2-33b1eb53907d",
   "metadata": {},
   "outputs": [],
   "source": [
    "#For an unshielded collider links should look as follows:\n",
    "\n",
    "links = {0 : [(1, 0), (2, 0)], 1: [], 2: []}"
   ]
  },
  {
   "cell_type": "markdown",
   "id": "5c0b1474-5cf9-40d5-8901-972c736759c7",
   "metadata": {},
   "source": [
    "### Visualizing the Graph \n",
    "\n",
    "Use the functionality of OracleCI to generate a graph corresponding to the links.\n",
    "\n",
    "Note that the graph is mirror-symmetric around the diagonal, i.e., if $i$ is a parent of $j$ $\\Rightarrow$ $j$ is a child of $i$"
   ]
  },
  {
   "cell_type": "code",
   "execution_count": 3,
   "id": "11cc6105-af9d-4719-a8e2-93bb1892a345",
   "metadata": {},
   "outputs": [
    {
     "name": "stdout",
     "output_type": "stream",
     "text": [
      "[['' '<--' '<--']\n",
      " ['-->' '' '']\n",
      " ['-->' '' '']]\n"
     ]
    }
   ],
   "source": [
    "oracle = OracleCI(links=links)\n",
    "\n",
    "graph = oracle.graph\n",
    "\n",
    "print(graph[:, :, 0])"
   ]
  },
  {
   "cell_type": "code",
   "execution_count": 4,
   "id": "12c32804-fe02-4b29-b90c-195af6edbeb1",
   "metadata": {},
   "outputs": [
    {
     "data": {
      "text/plain": [
       "(<Figure size 640x480 with 1 Axes>, <Axes: >)"
      ]
     },
     "execution_count": 4,
     "metadata": {},
     "output_type": "execute_result"
    },
    {
     "data": {
      "image/png": "[encoded data removed]",
      "text/plain": [
       "<Figure size 640x480 with 1 Axes>"
      ]
     },
     "metadata": {},
     "output_type": "display_data"
    }
   ],
   "source": [
    "tp.plot_graph(graph = graph)"
   ]
  },
  {
   "cell_type": "markdown",
   "id": "b83b9622-6c07-4992-830b-61ac1c827585",
   "metadata": {},
   "source": [
    "### Testing for Conditional Independence\n",
    "\n",
    "Recall that the null hypothesis is (conditional) independence, so:\n",
    "\n",
    "p-value == 1 $\\Rightarrow$ independence\n",
    "\n",
    "p-value == 0 $\\Rightarrow$ dependence"
   ]
  },
  {
   "cell_type": "code",
   "execution_count": 5,
   "id": "2502bda8-8f33-4f2b-8e04-0e92d52ecfcf",
   "metadata": {},
   "outputs": [
    {
     "data": {
      "text/plain": [
       "(1.0, 0.0)"
      ]
     },
     "execution_count": 5,
     "metadata": {},
     "output_type": "execute_result"
    }
   ],
   "source": [
    "# Test whether 1 and 2 are independent given Z = empty set versus Z = 0. \n",
    "_, pval_1 = oracle.run_test(X = [(1,0)], Y = [(2,0)], Z = [])\n",
    "_, pval_2 = oracle.run_test(X = [(1,0)], Y = [(2,0)], Z = [(0,0)])\n",
    "pval_1, pval_2"
   ]
  },
  {
   "cell_type": "markdown",
   "id": "a090bda3-9392-4a0e-b0b6-768a76d6fa9a",
   "metadata": {},
   "source": [
    "### Write a class to run the PC algorithm \n",
    "with arguments\n",
    "1. total number of variables and \n",
    "\n",
    "2. oracle object "
   ]
  },
  {
   "cell_type": "code",
   "execution_count": 6,
   "id": "1b0d8a16-eaef-4e58-bbd5-0a9ccd68a991",
   "metadata": {},
   "outputs": [],
   "source": [
    "encode_rel = lambda c: -1 if c == \"<--\" else 1 if c == \"-->\" else 0\n",
    "\n",
    "class Graph:\n",
    "    def __init__(self, num_variables: int):\n",
    "        self.nodes = set(range(num_variables))\n",
    "        self.edges = {p: self.nodes - set([p]) for p in self.nodes}\n",
    "    \n",
    "    def adj(self, p: int):\n",
    "        return self.edges[p]\n",
    "    \n",
    "    def del_adj(self, p: int, q: int):\n",
    "        if q in self.edges[p]:\n",
    "            self.edges[p].remove(q)\n",
    "        \n",
    "    def __repr__(self) -> str:\n",
    "        return \"Nodes: {}, Edges: {}\".format(self.nodes, self.edges)\n",
    "\n",
    "def combinations(s: set, k: int):\n",
    "    if k == 0:\n",
    "        return [set()]\n",
    "    if len(s) == 0:\n",
    "        return []\n",
    "    if len(s) == k:\n",
    "        return [s]\n",
    "    x = s.pop()\n",
    "    s_copy = s.copy()\n",
    "    s.add(x)\n",
    "    return combinations(s_copy, k) + [set([x]).union(c) for c in combinations(s_copy, k - 1)]\n",
    "\n",
    "class PCAlg:\n",
    "    def __init__(self, num_variables: int, oracle_object: OracleCI, p: float = 0.05):\n",
    "        self.num_variables = num_variables\n",
    "        self.oracle_object = oracle_object\n",
    "        self.p = p\n",
    "        self.sepset = {}\n",
    "        self.step1()\n",
    "        self.step2()\n",
    "        self.step3()\n",
    "        \n",
    "    def step1(self):\n",
    "        self.graph = Graph(self.num_variables)\n",
    "        \n",
    "        for n_adj in range(self.num_variables - 1):\n",
    "            for y in self.graph.nodes:\n",
    "                adj_y = self.graph.edges[y]\n",
    "                adj_yxs = [(x, adj_y - set([x])) for x in adj_y]\n",
    "                adj_yxs_filtered = [(x, adj_yx) for x, adj_yx in adj_yxs if len(adj_yx) >= n_adj]\n",
    "                adj_yxs_all_subsets = [(x, adj_yx_subset) for x, adj_yx in adj_yxs_filtered for adj_yx_subset in combinations(adj_yx, n_adj)]               \n",
    "                for x, adj_y_subset in adj_yxs_all_subsets:\n",
    "                    _, pval = self.oracle_object.run_test(\n",
    "                        X = [(x, 0)], \n",
    "                        Y = [(y, 0)], \n",
    "                        Z = [(z, 0) for z in adj_y_subset]\n",
    "                    )\n",
    "                    if pval > self.p:\n",
    "                        self.graph.del_adj(y, x)\n",
    "                        self.sepset[(x, y)] = adj_y_subset\n",
    "        return self\n",
    "    \n",
    "    def step2(self):\n",
    "        triples = []\n",
    "        for x in self.graph.nodes:\n",
    "            for y in self.graph.edges[x]:\n",
    "                for z in self.graph.edges[y]:\n",
    "                    if z == x or z in self.graph.edges[x]:\n",
    "                        continue\n",
    "                    triples.append((x, y, z))\n",
    "        \n",
    "        for x, y, z in triples:\n",
    "            if y not in self.sepset[(x, z)]:\n",
    "                self.graph.del_adj(y, x)\n",
    "                self.graph.del_adj(y, z)\n",
    "        return self\n",
    "    \n",
    "    def step3(self):\n",
    "        while self.orient1() or self.orient2() or self.orient3():\n",
    "            pass\n",
    "        return self\n",
    "    \n",
    "    def orient1(self) -> bool:\n",
    "        for x in self.graph.nodes:\n",
    "            for y in self.graph.edges[x]:\n",
    "                if x in self.graph.edges[y]:\n",
    "                    continue\n",
    "                for z in self.graph.edges[y]:\n",
    "                    if z == x:\n",
    "                        continue\n",
    "                    if z in self.graph.edges[x]:\n",
    "                        continue\n",
    "                    if y not in self.graph.edges[z]:\n",
    "                        continue\n",
    "                    self.graph.del_adj(z, y)        \n",
    "                    return True\n",
    "        return False\n",
    "    \n",
    "    def orient2(self) -> bool:              \n",
    "        for x in self.graph.nodes:\n",
    "            for y in self.graph.edges[x]:\n",
    "                if x in self.graph.edges[y]:\n",
    "                    continue\n",
    "                for z in self.graph.edges[y]:\n",
    "                    if z == x:\n",
    "                        continue\n",
    "                    if y in self.graph.edges[z]:\n",
    "                        continue\n",
    "                    if x not in self.graph.edges[z] or z not in self.graph.edges[x]:\n",
    "                        continue\n",
    "                    self.graph.del_adj(z, x)\n",
    "                    return True\n",
    "        return False\n",
    "    \n",
    "    def orient3(self) -> bool:  \n",
    "        for x in self.graph.nodes:\n",
    "            for y in self.graph.edges[x]:\n",
    "                if x not in self.graph.edges[y]:\n",
    "                    continue\n",
    "                for z in self.graph.edges[x]:\n",
    "                    if x not in self.graph.edges[z]:\n",
    "                        continue\n",
    "                    if z == y:\n",
    "                       continue \n",
    "                    if z in self.graph.edges[y] or y in self.graph.edges[z]:\n",
    "                        continue\n",
    "                    for w in self.graph.edges[x]:\n",
    "                        if x not in self.graph.edges[w]:\n",
    "                            continue\n",
    "                        if w == y or w == z:\n",
    "                            continue \n",
    "                        if y in self.graph.edges[w] or z in self.graph.edges[w]:\n",
    "                            continue\n",
    "                        self.graph.del_adj(w, x)\n",
    "                        return True\n",
    "        return False"
   ]
  },
  {
   "cell_type": "markdown",
   "id": "30d51670-0a93-4b26-95b5-a85f2adfdcbc",
   "metadata": {},
   "source": [
    "### Test your PC algorithm on this causal graph (aka Y-structure):\n",
    "links =  {0: [], 1: [], 2: [(0,0), (1,0)], 3: [(2,0)]}"
   ]
  },
  {
   "cell_type": "code",
   "execution_count": 7,
   "id": "abf3777e-55e4-452a-bcc7-7238794bf83e",
   "metadata": {},
   "outputs": [
    {
     "data": {
      "text/plain": [
       "(<Figure size 640x480 with 1 Axes>, <Axes: >)"
      ]
     },
     "execution_count": 7,
     "metadata": {},
     "output_type": "execute_result"
    },
    {
     "data": {
      "image/png": "[encoded data removed]",
      "text/plain": [
       "<Figure size 640x480 with 1 Axes>"
      ]
     },
     "metadata": {},
     "output_type": "display_data"
    }
   ],
   "source": [
    "links = {0: [], 1: [], 2: [(0,0), (1,0)], 3: [(2,0)]}\n",
    "oracle = OracleCI(links=links)\n",
    "tp.plot_graph(graph = oracle.graph[:, :, 0])"
   ]
  },
  {
   "cell_type": "code",
   "execution_count": 8,
   "id": "a6aae80c-bd9d-49f6-8843-7c3f78f151b2",
   "metadata": {},
   "outputs": [
    {
     "name": "stdout",
     "output_type": "stream",
     "text": [
      "Nodes: {0, 1, 2, 3}, Edges: {0: {2}, 1: {2}, 2: {3}, 3: set()}\n"
     ]
    }
   ],
   "source": [
    "pc = PCAlg(4, oracle)\n",
    "print(pc.graph)"
   ]
  }
 ],
 "metadata": {
  "kernelspec": {
   "display_name": "Python 3 (ipykernel)",
   "language": "python",
   "name": "python3"
  },
  "language_info": {
   "codemirror_mode": {
    "name": "ipython",
    "version": 3
   },
   "file_extension": ".py",
   "mimetype": "text/x-python",
   "name": "python",
   "nbconvert_exporter": "python",
   "pygments_lexer": "ipython3",
   "version": "3.11.3"
  }
 },
 "nbformat": 4,
 "nbformat_minor": 5
}
